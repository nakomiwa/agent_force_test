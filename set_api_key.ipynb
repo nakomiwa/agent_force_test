{
 "cells": [
  {
   "cell_type": "markdown",
   "metadata": {
    "application/vnd.databricks.v1+cell": {
     "cellMetadata": {},
     "inputWidgets": {},
     "nuid": "f940fe0f-5e4f-4b61-acc2-bbfe5da2413c",
     "showTitle": false,
     "tableResultSettingsMap": {},
     "title": ""
    }
   },
   "source": [
    "# OpenAIのAPIキーをシークレットスコープに設定する"
   ]
  },
  {
   "cell_type": "code",
   "execution_count": 0,
   "metadata": {
    "application/vnd.databricks.v1+cell": {
     "cellMetadata": {
      "byteLimit": 2048000,
      "rowLimit": 10000
     },
     "inputWidgets": {},
     "nuid": "f1754b92-1325-4c78-b3c1-ad33eb27916f",
     "showTitle": false,
     "tableResultSettingsMap": {},
     "title": ""
    }
   },
   "outputs": [],
   "source": [
    "# pipでインストール\n",
    "!pip install databricks-cli==0.18.0\n",
    "dbutils.library.restartPython()\n",
    "# インストール確認\n",
    "!databricks --version"
   ]
  },
  {
   "cell_type": "code",
   "execution_count": 0,
   "metadata": {
    "application/vnd.databricks.v1+cell": {
     "cellMetadata": {
      "byteLimit": 2048000,
      "rowLimit": 10000
     },
     "inputWidgets": {},
     "nuid": "25e3c765-bac8-49d9-9e59-8e8f6f07f92b",
     "showTitle": false,
     "tableResultSettingsMap": {},
     "title": ""
    }
   },
   "outputs": [],
   "source": [
    "%sh\n",
    "# ===== ここを自分の値に置き換える =====\n",
    "DATABRICKS_HOST=\"https://adb-3885384095839037.17.azuredatabricks.net/\"  # ← Azure DatabricksのURL\n",
    "DATABRICKS_TOKEN=\"dapiXXXXXX\"  # ← Personal Access Token\n",
    "OPENAI_API_KEY=\"sk-proj-XXXX\"  # ← OpenAI APIキー\n",
    "# ====================================\n",
    "\n",
    "# CLI設定\n",
    "cat > ~/.databrickscfg << EOF\n",
    "[DEFAULT]\n",
    "host = ${DATABRICKS_HOST}\n",
    "token = ${DATABRICKS_TOKEN}\n",
    "EOF\n",
    "\n",
    "echo \"✅ Databricks CLI設定完了\"\n",
    "\n",
    "# スコープ作成\n",
    "databricks secrets create-scope --scope my-secrets 2>/dev/null || echo \"⚠️ スコープ既存\"\n",
    "\n",
    "# シークレット登録（旧CLI用：--string-value の後に値を直接指定）\n",
    "databricks secrets put --scope my-secrets --key openai-api-key --string-value \"${OPENAI_API_KEY}\"\n",
    "\n",
    "echo \"✅ OpenAI APIキー登録完了\"\n",
    "\n",
    "# 確認\n",
    "echo \"\"\n",
    "echo \"📋 登録されたシークレット:\"\n",
    "databricks secrets list --scope my-secrets"
   ]
  },
  {
   "cell_type": "code",
   "execution_count": 0,
   "metadata": {
    "application/vnd.databricks.v1+cell": {
     "cellMetadata": {},
     "inputWidgets": {},
     "nuid": "d7683719-b0c9-4ad4-b04e-bddf544d75bb",
     "showTitle": false,
     "tableResultSettingsMap": {},
     "title": ""
    }
   },
   "outputs": [],
   "source": []
  }
 ],
 "metadata": {
  "application/vnd.databricks.v1+notebook": {
   "computePreferences": null,
   "dashboards": [],
   "environmentMetadata": {
    "base_environment": "",
    "environment_version": "4"
   },
   "inputWidgetPreferences": null,
   "language": "python",
   "notebookMetadata": {
    "mostRecentlyExecutedCommandWithImplicitDF": {
     "commandId": 6784453421957995,
     "dataframes": [
      "_sqldf"
     ]
    },
    "pythonIndentUnit": 4
   },
   "notebookName": "set_api_key",
   "widgets": {}
  },
  "language_info": {
   "name": "python"
  }
 },
 "nbformat": 4,
 "nbformat_minor": 0
}
