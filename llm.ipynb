{
 "cells": [
  {
   "cell_type": "markdown",
   "metadata": {
    "application/vnd.databricks.v1+cell": {
     "cellMetadata": {},
     "inputWidgets": {},
     "nuid": "7027ac9e-86ad-41d1-9d40-c81381fa7256",
     "showTitle": false,
     "tableResultSettingsMap": {},
     "title": ""
    }
   },
   "source": [
    "◆役割\n",
    "あなたはpythonのプログラマのスペシャリスト\n",
    "LLMの実装に習熟している\n",
    "\n",
    "◆仕様\n",
    "顧客情報を要約させるチャットを作りたい\n",
    "RAGは使わない\n",
    "\n",
    "プロンプト案を複数作成する\n",
    "DSPYを使ってプロンプトを最適化する\n",
    "顧客情報を取り込む（サンプルデータでよい）\n",
    "LLMに連携し、要約結果を得る\n",
    "要約結果が簡潔であるか、わかりやすいか、一貫性があるかをLLMasaJudgeでテストする\n",
    "LLMの回答は再現性がないため、tempertureを0にしたうえで、3回施行し、その結果の平均値を評価する\n",
    "評価の関数はDSpyのevaluateでカスタムの評価関数をさk巣栄する\n",
    "施行の結果をMLFlowで\n",
    "\n",
    "OpenAIのAPIを利用\n",
    "モデル：gpt4-o-mini\n",
    "APIキー：XXXXX（別途設定）\n",
    "\n",
    "まずはノートブックで実行したい\n",
    "動作が確認できてからクラス化、関数化をするので、それを意識した処理に分けてほしい\n"
   ]
  },
  {
   "cell_type": "code",
   "execution_count": 0,
   "metadata": {
    "application/vnd.databricks.v1+cell": {
     "cellMetadata": {},
     "inputWidgets": {},
     "nuid": "dab6b481-f5db-4530-ac4b-7b4f60e82e9c",
     "showTitle": false,
     "tableResultSettingsMap": {},
     "title": ""
    }
   },
   "outputs": [],
   "source": [
    "\n"
   ]
  }
 ],
 "metadata": {
  "application/vnd.databricks.v1+notebook": {
   "computePreferences": {
    "hardware": {
     "accelerator": null,
     "gpuPoolId": null,
     "memory": null
    }
   },
   "dashboards": [],
   "environmentMetadata": {
    "base_environment": "",
    "environment_version": "4"
   },
   "inputWidgetPreferences": null,
   "language": "python",
   "notebookMetadata": {
    "pythonIndentUnit": 4
   },
   "notebookName": "llm",
   "widgets": {}
  },
  "language_info": {
   "name": "python"
  }
 },
 "nbformat": 4,
 "nbformat_minor": 0
}
