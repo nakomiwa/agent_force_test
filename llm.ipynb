{
 "cells": [
  {
   "cell_type": "markdown",
   "metadata": {
    "application/vnd.databricks.v1+cell": {
     "cellMetadata": {
      "byteLimit": 2048000,
      "rowLimit": 10000
     },
     "inputWidgets": {},
     "nuid": "1f1f3b25-c3b8-426e-9e45-3ae5d78d28dd",
     "showTitle": false,
     "tableResultSettingsMap": {},
     "title": ""
    }
   },
   "source": [
    "# 顧客情報要約システム - DSPy最適化版\n",
    "\n",
    "このノートブックでは、DSPyのEvaluateとOptimizerを使用して、顧客情報要約プロンプトを最適化します。"
   ]
  },
  {
   "cell_type": "markdown",
   "metadata": {
    "application/vnd.databricks.v1+cell": {
     "cellMetadata": {
      "byteLimit": 2048000,
      "rowLimit": 10000
     },
     "inputWidgets": {},
     "nuid": "493d516c-7786-4626-99a7-2ffeecedbce2",
     "showTitle": false,
     "tableResultSettingsMap": {},
     "title": ""
    }
   },
   "source": [
    "## セル1: 環境セットアップ"
   ]
  },
  {
   "cell_type": "code",
   "execution_count": 0,
   "metadata": {
    "application/vnd.databricks.v1+cell": {
     "cellMetadata": {
      "byteLimit": 2048000,
      "rowLimit": 10000
     },
     "inputWidgets": {},
     "nuid": "91bfb3fb-0230-4b10-8bc5-0d4571269e59",
     "showTitle": false,
     "tableResultSettingsMap": {},
     "title": ""
    }
   },
   "outputs": [],
   "source": [
    "!pip install dspy-ai openai mlflow pandas numpy"
   ]
  },
  {
   "cell_type": "code",
   "execution_count": 0,
   "metadata": {
    "application/vnd.databricks.v1+cell": {
     "cellMetadata": {
      "byteLimit": 2048000,
      "rowLimit": 10000
     },
     "inputWidgets": {},
     "nuid": "b629f018-fb65-41e8-8c3e-b7db65c260f0",
     "showTitle": false,
     "tableResultSettingsMap": {},
     "title": ""
    }
   },
   "outputs": [],
   "source": [
    "dbutils.library.restartPython()"
   ]
  },
  {
   "cell_type": "code",
   "execution_count": 0,
   "metadata": {
    "application/vnd.databricks.v1+cell": {
     "cellMetadata": {
      "byteLimit": 2048000,
      "rowLimit": 10000
     },
     "inputWidgets": {},
     "nuid": "ff6e674f-1ade-4b17-bfbb-7bcac88910a0",
     "showTitle": false,
     "tableResultSettingsMap": {},
     "title": ""
    }
   },
   "outputs": [],
   "source": [
    "import dspy\n",
    "from dspy.evaluate import Evaluate\n",
    "from dspy.teleprompt import BootstrapFewShot\n",
    "import mlflow\n",
    "import pandas as pd\n",
    "import numpy as np\n",
    "import os\n",
    "\n",
    "# MLflow設定\n",
    "mlflow.openai.autolog()\n",
    "mlflow.set_experiment(experiment_id=2762244084694129)\n",
    "\n",
    "print(\"✓ 環境セットアップ完了\")"
   ]
  },
  {
   "cell_type": "markdown",
   "metadata": {
    "application/vnd.databricks.v1+cell": {
     "cellMetadata": {
      "byteLimit": 2048000,
      "rowLimit": 10000
     },
     "inputWidgets": {},
     "nuid": "ec3c2e3c-d871-4b9f-b90e-bfbc13b0bb48",
     "showTitle": false,
     "tableResultSettingsMap": {},
     "title": ""
    }
   },
   "source": [
    "## セル2: サンプルデータ作成"
   ]
  },
  {
   "cell_type": "code",
   "execution_count": 0,
   "metadata": {
    "application/vnd.databricks.v1+cell": {
     "cellMetadata": {
      "byteLimit": 2048000,
      "rowLimit": 10000
     },
     "inputWidgets": {},
     "nuid": "d71845cf-9960-4b56-955f-2cdba1a4409b",
     "showTitle": false,
     "tableResultSettingsMap": {},
     "title": ""
    }
   },
   "outputs": [],
   "source": [
    "sample_customers = [\n",
    "    {\n",
    "        \"id\": \"C001\",\n",
    "        \"name\": \"山田太郎\",\n",
    "        \"age\": 35,\n",
    "        \"occupation\": \"会社員\",\n",
    "        \"purchase_history\": \"過去6ヶ月で3回購入。主に電化製品を購入。平均購入額は5万円。\",\n",
    "        \"inquiries\": \"配送に関する問い合わせが2件。製品の使い方に関する質問が1件。\",\n",
    "        \"notes\": \"リピート顧客。メールマガジン購読中。次回購入時10%割引クーポン保有。\"\n",
    "    },\n",
    "    {\n",
    "        \"id\": \"C002\",\n",
    "        \"name\": \"佐藤花子\",\n",
    "        \"age\": 28,\n",
    "        \"occupation\": \"自営業\",\n",
    "        \"purchase_history\": \"初回購入。書籍とオフィス用品を購入。購入額は1.2万円。\",\n",
    "        \"inquiries\": \"返品ポリシーに関する問い合わせが1件。\",\n",
    "        \"notes\": \"新規顧客。SNS経由での流入。レビュー投稿の依頼中。\"\n",
    "    },\n",
    "    {\n",
    "        \"id\": \"C003\",\n",
    "        \"name\": \"鈴木一郎\",\n",
    "        \"age\": 42,\n",
    "        \"occupation\": \"経営者\",\n",
    "        \"purchase_history\": \"VIP顧客。月に2-3回購入。高額商品を好む傾向。累計購入額200万円超。\",\n",
    "        \"inquiries\": \"VIPサポート窓口利用。製品カスタマイズの相談が複数回。\",\n",
    "        \"notes\": \"優良顧客。専任担当者あり。法人契約も検討中。誕生日月に特別オファー送付済み。\"\n",
    "    },\n",
    "    {\n",
    "        \"id\": \"C004\",\n",
    "        \"name\": \"田中美咲\",\n",
    "        \"age\": 31,\n",
    "        \"occupation\": \"看護師\",\n",
    "        \"purchase_history\": \"過去1年で5回購入。健康関連商品とコスメを主に購入。平均購入額3万円。\",\n",
    "        \"inquiries\": \"製品の成分に関する詳細な問い合わせが3件。アレルギー対応の確認。\",\n",
    "        \"notes\": \"健康志向の高い顧客。定期購入プラン加入中。友人紹介プログラム利用歴あり。\"\n",
    "    },\n",
    "    {\n",
    "        \"id\": \"C005\",\n",
    "        \"name\": \"高橋健二\",\n",
    "        \"age\": 55,\n",
    "        \"occupation\": \"公務員\",\n",
    "        \"purchase_history\": \"2年前から顧客。年に4-5回購入。趣味関連の商品を購入。平均購入額4万円。\",\n",
    "        \"inquiries\": \"配送遅延に関するクレームが1件。その後のフォローアップで満足度回復。\",\n",
    "        \"notes\": \"安定した購入パターン。ポイントプログラム活用。過去にクレームあったが現在は良好な関係。\"\n",
    "    }\n",
    "]\n",
    "\n",
    "print(f\"✓ サンプルデータ準備完了: {len(sample_customers)}件\")"
   ]
  },
  {
   "cell_type": "markdown",
   "metadata": {
    "application/vnd.databricks.v1+cell": {
     "cellMetadata": {
      "byteLimit": 2048000,
      "rowLimit": 10000
     },
     "inputWidgets": {},
     "nuid": "395c331e-809e-4fee-83e8-f27b259f4465",
     "showTitle": false,
     "tableResultSettingsMap": {},
     "title": ""
    }
   },
   "source": [
    "## セル3: LM設定"
   ]
  },
  {
   "cell_type": "code",
   "execution_count": 0,
   "metadata": {
    "application/vnd.databricks.v1+cell": {
     "cellMetadata": {
      "byteLimit": 2048000,
      "rowLimit": 10000
     },
     "inputWidgets": {},
     "nuid": "47433061-e441-4bbb-a079-5ddcf8510767",
     "showTitle": false,
     "tableResultSettingsMap": {},
     "title": ""
    }
   },
   "outputs": [],
   "source": [
    "lm = dspy.LM(\n",
    "    model='gpt-4o-mini',\n",
    "    api_key=os.environ[\"OPENAI_API_KEY\"],\n",
    "    temperature=0.0,\n",
    "    max_tokens=500\n",
    ")\n",
    "\n",
    "dspy.configure(lm=lm)\n",
    "print(\"✓ LM設定完了\")"
   ]
  },
  {
   "cell_type": "markdown",
   "metadata": {
    "application/vnd.databricks.v1+cell": {
     "cellMetadata": {
      "byteLimit": 2048000,
      "rowLimit": 10000
     },
     "inputWidgets": {},
     "nuid": "6c9ba87f-8519-4557-bab4-b5225a5b50d6",
     "showTitle": false,
     "tableResultSettingsMap": {},
     "title": ""
    }
   },
   "source": [
    "## セル4: シグネチャとモジュール定義"
   ]
  },
  {
   "cell_type": "code",
   "execution_count": 0,
   "metadata": {
    "application/vnd.databricks.v1+cell": {
     "cellMetadata": {
      "byteLimit": 2048000,
      "rowLimit": 10000
     },
     "inputWidgets": {},
     "nuid": "e0d803ab-9d3a-4faa-9199-1dfba9973dee",
     "showTitle": false,
     "tableResultSettingsMap": {},
     "title": ""
    }
   },
   "outputs": [],
   "source": [
    "# 入力データクラス(DSPyのExample用)\n",
    "class CustomerData(dspy.Example):\n",
    "    def __init__(self, customer_id, name, age, occupation, purchase_history, inquiries, notes):\n",
    "        super().__init__(\n",
    "            customer_id=customer_id,\n",
    "            name=name,\n",
    "            age=str(age),\n",
    "            occupation=occupation,\n",
    "            purchase_history=purchase_history,\n",
    "            inquiries=inquiries,\n",
    "            notes=notes\n",
    "        )\n",
    "\n",
    "# シグネチャ定義\n",
    "class CustomerSummary(dspy.Signature):\n",
    "    \"\"\"顧客情報を簡潔で分かりやすく一貫性のある要約にします。\"\"\"\n",
    "    \n",
    "    customer_id: str = dspy.InputField(desc=\"顧客ID\")\n",
    "    name: str = dspy.InputField(desc=\"顧客名\")\n",
    "    age: str = dspy.InputField(desc=\"年齢\")\n",
    "    occupation: str = dspy.InputField(desc=\"職業\")\n",
    "    purchase_history: str = dspy.InputField(desc=\"購入履歴\")\n",
    "    inquiries: str = dspy.InputField(desc=\"問い合わせ履歴\")\n",
    "    notes: str = dspy.InputField(desc=\"備考\")\n",
    "    \n",
    "    summary: str = dspy.OutputField(desc=\"顧客情報の要約(200文字以内)\")\n",
    "\n",
    "# 要約モジュール\n",
    "class SummaryModule(dspy.Module):\n",
    "    def __init__(self):\n",
    "        super().__init__()\n",
    "        self.generate_summary = dspy.ChainOfThought(CustomerSummary)\n",
    "    \n",
    "    def forward(self, customer_id, name, age, occupation, purchase_history, inquiries, notes):\n",
    "        return self.generate_summary(\n",
    "            customer_id=customer_id,\n",
    "            name=name,\n",
    "            age=age,\n",
    "            occupation=occupation,\n",
    "            purchase_history=purchase_history,\n",
    "            inquiries=inquiries,\n",
    "            notes=notes\n",
    "        )\n",
    "\n",
    "print(\"✓ モジュール定義完了\")"
   ]
  },
  {
   "cell_type": "markdown",
   "metadata": {
    "application/vnd.databricks.v1+cell": {
     "cellMetadata": {
      "byteLimit": 2048000,
      "rowLimit": 10000
     },
     "inputWidgets": {},
     "nuid": "71cdc2c8-f6de-4a1c-bb1b-6fbb90fa28cf",
     "showTitle": false,
     "tableResultSettingsMap": {},
     "title": ""
    }
   },
   "source": [
    "## セル5: データセット準備"
   ]
  },
  {
   "cell_type": "code",
   "execution_count": 0,
   "metadata": {
    "application/vnd.databricks.v1+cell": {
     "cellMetadata": {
      "byteLimit": 2048000,
      "rowLimit": 10000
     },
     "inputWidgets": {},
     "nuid": "3ae719ef-5bdb-488d-89cb-70c819c8ad69",
     "showTitle": false,
     "tableResultSettingsMap": {},
     "title": ""
    }
   },
   "outputs": [],
   "source": [
    "# DSPy Exampleオブジェクトに変換\n",
    "trainset = [\n",
    "    CustomerData(\n",
    "        customer_id=c[\"id\"],\n",
    "        name=c[\"name\"],\n",
    "        age=c[\"age\"],\n",
    "        occupation=c[\"occupation\"],\n",
    "        purchase_history=c[\"purchase_history\"],\n",
    "        inquiries=c[\"inquiries\"],\n",
    "        notes=c[\"notes\"]\n",
    "    )\n",
    "    for c in sample_customers[:3]  # 最初の3件を訓練用\n",
    "]\n",
    "\n",
    "devset = [\n",
    "    CustomerData(\n",
    "        customer_id=c[\"id\"],\n",
    "        name=c[\"name\"],\n",
    "        age=c[\"age\"],\n",
    "        occupation=c[\"occupation\"],\n",
    "        purchase_history=c[\"purchase_history\"],\n",
    "        inquiries=c[\"inquiries\"],\n",
    "        notes=c[\"notes\"]\n",
    "    )\n",
    "    for c in sample_customers[3:]  # 残りを評価用\n",
    "]\n",
    "\n",
    "print(f\"✓ データセット準備完了: 訓練={len(trainset)}件, 評価={len(devset)}件\")"
   ]
  },
  {
   "cell_type": "markdown",
   "metadata": {
    "application/vnd.databricks.v1+cell": {
     "cellMetadata": {
      "byteLimit": 2048000,
      "rowLimit": 10000
     },
     "inputWidgets": {},
     "nuid": "1230e6e6-b147-40f0-b714-f8797cc57e89",
     "showTitle": false,
     "tableResultSettingsMap": {},
     "title": ""
    }
   },
   "source": [
    "## セル6: 評価関数定義(LLM-as-a-Judge)"
   ]
  },
  {
   "cell_type": "code",
   "execution_count": 0,
   "metadata": {
    "application/vnd.databricks.v1+cell": {
     "cellMetadata": {
      "byteLimit": 2048000,
      "rowLimit": 10000
     },
     "inputWidgets": {},
     "nuid": "6be4a0c8-0857-4047-bd30-400de65ced40",
     "showTitle": false,
     "tableResultSettingsMap": {},
     "title": ""
    }
   },
   "outputs": [],
   "source": [
    "# Judge用のシグネチャ\n",
    "class QualityAssessment(dspy.Signature):\n",
    "    \"\"\"要約の品質を0-10で評価します。\"\"\"\n",
    "    \n",
    "    summary: str = dspy.InputField(desc=\"評価対象の要約\")\n",
    "    \n",
    "    score: int = dspy.OutputField(desc=\"品質スコア(0-10)\")\n",
    "    reasoning: str = dspy.OutputField(desc=\"評価理由\")\n",
    "\n",
    "# Judge モジュール\n",
    "class QualityJudge(dspy.Module):\n",
    "    def __init__(self):\n",
    "        super().__init__()\n",
    "        self.assess = dspy.ChainOfThought(QualityAssessment)\n",
    "    \n",
    "    def forward(self, summary):\n",
    "        return self.assess(summary=summary)\n",
    "\n",
    "judge = QualityJudge()\n",
    "\n",
    "# DSPy用評価メトリクス関数\n",
    "def quality_metric(example, pred, trace=None):\n",
    "    \"\"\"\n",
    "    要約の品質を評価するメトリクス\n",
    "    戻り値: スコア(0.0-1.0)\n",
    "    \"\"\"\n",
    "    if not pred or not hasattr(pred, 'summary'):\n",
    "        return 0.0\n",
    "    \n",
    "    # LLM-as-a-Judgeで評価\n",
    "    assessment = judge(summary=pred.summary)\n",
    "    \n",
    "    try:\n",
    "        # スコアを0-1に正規化\n",
    "        score = int(assessment.score)\n",
    "        normalized_score = score / 10.0\n",
    "        return normalized_score\n",
    "    except:\n",
    "        return 0.0\n",
    "\n",
    "print(\"✓ 評価関数定義完了\")"
   ]
  },
  {
   "cell_type": "markdown",
   "metadata": {
    "application/vnd.databricks.v1+cell": {
     "cellMetadata": {
      "byteLimit": 2048000,
      "rowLimit": 10000
     },
     "inputWidgets": {},
     "nuid": "b3354383-6a0f-4acf-81f1-6ac42f3ee7e4",
     "showTitle": false,
     "tableResultSettingsMap": {},
     "title": ""
    }
   },
   "source": [
    "## セル7: ベースラインモデルの評価"
   ]
  },
  {
   "cell_type": "code",
   "execution_count": 0,
   "metadata": {
    "application/vnd.databricks.v1+cell": {
     "cellMetadata": {
      "byteLimit": 2048000,
      "rowLimit": 10000
     },
     "inputWidgets": {},
     "nuid": "a64f05bb-86bb-4f3b-89a0-1a61a536257d",
     "showTitle": false,
     "tableResultSettingsMap": {},
     "title": ""
    }
   },
   "outputs": [],
   "source": [
    "# ===== セル7: ベースラインモデルの評価 =====\n",
    "\n",
    "baseline_model = SummaryModule()\n",
    "\n",
    "print(\"=\" * 60)\n",
    "print(\"ベースラインモデルの評価\")\n",
    "print(\"=\" * 60)\n",
    "\n",
    "# 手動で評価\n",
    "baseline_scores = []\n",
    "\n",
    "for idx, example in enumerate(devset):\n",
    "    print(f\"\\n評価中 {idx+1}/{len(devset)}: {example.name}\")\n",
    "    \n",
    "    # 予測実行\n",
    "    pred = baseline_model(\n",
    "        customer_id=example.customer_id,\n",
    "        name=example.name,\n",
    "        age=example.age,\n",
    "        occupation=example.occupation,\n",
    "        purchase_history=example.purchase_history,\n",
    "        inquiries=example.inquiries,\n",
    "        notes=example.notes\n",
    "    )\n",
    "    \n",
    "    # 評価実行\n",
    "    score = quality_metric(example, pred)\n",
    "    baseline_scores.append(score)\n",
    "\n",
    "# 平均スコア計算\n",
    "baseline_score = sum(baseline_scores) / len(baseline_scores) if baseline_scores else 0.0\n",
    "\n",
    "print(f\"\\n{'='*60}\")\n",
    "print(f\"ベースライン平均スコア: {baseline_score:.2%}\")\n",
    "print(f\"個別スコア: {[f'{s:.2f}' for s in baseline_scores]}\")\n",
    "print(f\"{'='*60}\")"
   ]
  },
  {
   "cell_type": "markdown",
   "metadata": {
    "application/vnd.databricks.v1+cell": {
     "cellMetadata": {
      "byteLimit": 2048000,
      "rowLimit": 10000
     },
     "inputWidgets": {},
     "nuid": "72a88985-f41c-43a4-93e2-8be123f63b2b",
     "showTitle": false,
     "tableResultSettingsMap": {},
     "title": ""
    }
   },
   "source": [
    "## セル8: プロンプト最適化(BootstrapFewShot)"
   ]
  },
  {
   "cell_type": "code",
   "execution_count": 0,
   "metadata": {
    "application/vnd.databricks.v1+cell": {
     "cellMetadata": {
      "byteLimit": 2048000,
      "rowLimit": 10000
     },
     "inputWidgets": {},
     "nuid": "71cdcee6-5951-41d4-bfda-5ee830e7b199",
     "showTitle": false,
     "tableResultSettingsMap": {},
     "title": ""
    }
   },
   "outputs": [],
   "source": [
    "print(\"=\" * 60)\n",
    "print(\"プロンプト最適化開始\")\n",
    "print(\"=\" * 60)\n",
    "\n",
    "# BootstrapFewShotオプティマイザー\n",
    "optimizer = BootstrapFewShot(\n",
    "    metric=quality_metric,\n",
    "    max_bootstrapped_demos=2,  # 生成するデモ数\n",
    "    max_labeled_demos=2,       # 使用するラベル付きデモ数\n",
    ")\n",
    "\n",
    "# 最適化実行\n",
    "optimized_model = optimizer.compile(\n",
    "    student=SummaryModule(),\n",
    "    trainset=trainset\n",
    ")\n",
    "\n",
    "print(\"\\n✓ 最適化完了\")"
   ]
  },
  {
   "cell_type": "markdown",
   "metadata": {
    "application/vnd.databricks.v1+cell": {
     "cellMetadata": {
      "byteLimit": 2048000,
      "rowLimit": 10000
     },
     "inputWidgets": {},
     "nuid": "7fd48da0-b13e-4985-9a49-4bb99b1723ee",
     "showTitle": false,
     "tableResultSettingsMap": {},
     "title": ""
    }
   },
   "source": [
    "## セル9: 最適化モデルの評価"
   ]
  },
  {
   "cell_type": "code",
   "execution_count": 0,
   "metadata": {
    "application/vnd.databricks.v1+cell": {
     "cellMetadata": {
      "byteLimit": 2048000,
      "rowLimit": 10000
     },
     "inputWidgets": {},
     "nuid": "05f90126-3b06-465d-a8b4-ff6d62f970ac",
     "showTitle": false,
     "tableResultSettingsMap": {},
     "title": ""
    }
   },
   "outputs": [],
   "source": [
    "# ===== セル9: 最適化モデルの評価 =====\n",
    "\n",
    "print(\"=\" * 60)\n",
    "print(\"最適化モデルの評価\")\n",
    "print(\"=\" * 60)\n",
    "\n",
    "# 手動で評価\n",
    "optimized_scores = []\n",
    "\n",
    "for idx, example in enumerate(devset):\n",
    "    print(f\"\\n評価中 {idx+1}/{len(devset)}: {example.name}\")\n",
    "    \n",
    "    # 予測実行\n",
    "    pred = optimized_model(\n",
    "        customer_id=example.customer_id,\n",
    "        name=example.name,\n",
    "        age=example.age,\n",
    "        occupation=example.occupation,\n",
    "        purchase_history=example.purchase_history,\n",
    "        inquiries=example.inquiries,\n",
    "        notes=example.notes\n",
    "    )\n",
    "    \n",
    "    # 評価実行\n",
    "    score = quality_metric(example, pred)\n",
    "    optimized_scores.append(score)\n",
    "\n",
    "# 平均スコア計算\n",
    "optimized_score = sum(optimized_scores) / len(optimized_scores) if optimized_scores else 0.0\n",
    "\n",
    "print(f\"\\n{'='*60}\")\n",
    "print(f\"最適化後平均スコア: {optimized_score:.2%}\")\n",
    "print(f\"個別スコア: {[f'{s:.2f}' for s in optimized_scores]}\")\n",
    "print(f\"{'='*60}\")\n",
    "\n",
    "# 改善率計算\n",
    "if baseline_score > 0:\n",
    "    improvement = optimized_score - baseline_score\n",
    "    improvement_pct = (improvement / baseline_score) * 100\n",
    "    print(f\"\\n✓ 改善: {improvement:+.2%} ({improvement_pct:+.1f}%)\")\n",
    "else:\n",
    "    print(f\"\\n✓ ベースラインスコアが0のため改善率計算不可\")"
   ]
  },
  {
   "cell_type": "markdown",
   "metadata": {
    "application/vnd.databricks.v1+cell": {
     "cellMetadata": {
      "byteLimit": 2048000,
      "rowLimit": 10000
     },
     "inputWidgets": {},
     "nuid": "794f9336-1b6a-4b48-ae75-ef74c56215cc",
     "showTitle": false,
     "tableResultSettingsMap": {},
     "title": ""
    }
   },
   "source": [
    "## セル10: 結果の比較と可視化"
   ]
  },
  {
   "cell_type": "code",
   "execution_count": 0,
   "metadata": {
    "application/vnd.databricks.v1+cell": {
     "cellMetadata": {
      "byteLimit": 2048000,
      "rowLimit": 10000
     },
     "inputWidgets": {},
     "nuid": "756ad84f-8648-4f88-a9d6-c975acb7976c",
     "showTitle": false,
     "tableResultSettingsMap": {},
     "title": ""
    }
   },
   "outputs": [],
   "source": [
    "# 両モデルで全データの要約を生成\n",
    "results = []\n",
    "\n",
    "for customer in sample_customers:\n",
    "    # ベースライン\n",
    "    baseline_pred = baseline_model(\n",
    "        customer_id=customer[\"id\"],\n",
    "        name=customer[\"name\"],\n",
    "        age=str(customer[\"age\"]),\n",
    "        occupation=customer[\"occupation\"],\n",
    "        purchase_history=customer[\"purchase_history\"],\n",
    "        inquiries=customer[\"inquiries\"],\n",
    "        notes=customer[\"notes\"]\n",
    "    )\n",
    "    \n",
    "    # 最適化\n",
    "    optimized_pred = optimized_model(\n",
    "        customer_id=customer[\"id\"],\n",
    "        name=customer[\"name\"],\n",
    "        age=str(customer[\"age\"]),\n",
    "        occupation=customer[\"occupation\"],\n",
    "        purchase_history=customer[\"purchase_history\"],\n",
    "        inquiries=customer[\"inquiries\"],\n",
    "        notes=customer[\"notes\"]\n",
    "    )\n",
    "    \n",
    "    # 評価\n",
    "    baseline_quality = quality_metric(None, baseline_pred)\n",
    "    optimized_quality = quality_metric(None, optimized_pred)\n",
    "    \n",
    "    results.append({\n",
    "        \"customer_id\": customer[\"id\"],\n",
    "        \"name\": customer[\"name\"],\n",
    "        \"baseline_summary\": baseline_pred.summary,\n",
    "        \"baseline_score\": baseline_quality,\n",
    "        \"optimized_summary\": optimized_pred.summary,\n",
    "        \"optimized_score\": optimized_quality,\n",
    "        \"improvement\": optimized_quality - baseline_quality\n",
    "    })\n",
    "\n",
    "results_df = pd.DataFrame(results)\n",
    "\n",
    "print(\"\\n\" + \"=\" * 80)\n",
    "print(\"詳細比較結果\")\n",
    "print(\"=\" * 80)\n",
    "print(results_df[[\"name\", \"baseline_score\", \"optimized_score\", \"improvement\"]].to_string(index=False))"
   ]
  },
  {
   "cell_type": "markdown",
   "metadata": {
    "application/vnd.databricks.v1+cell": {
     "cellMetadata": {
      "byteLimit": 2048000,
      "rowLimit": 10000
     },
     "inputWidgets": {},
     "nuid": "740a6da7-10a4-40e2-b7f4-e77b28c25b21",
     "showTitle": false,
     "tableResultSettingsMap": {},
     "title": ""
    }
   },
   "source": [
    "## セル11: MLflowに結果を記録"
   ]
  },
  {
   "cell_type": "code",
   "execution_count": 0,
   "metadata": {
    "application/vnd.databricks.v1+cell": {
     "cellMetadata": {
      "byteLimit": 2048000,
      "rowLimit": 10000
     },
     "inputWidgets": {},
     "nuid": "2320d1a0-3dd8-4279-bad7-10a6b7ee5948",
     "showTitle": false,
     "tableResultSettingsMap": {},
     "title": ""
    }
   },
   "outputs": [],
   "source": [
    "with mlflow.start_run(run_name=\"customer_summary_optimization\"):\n",
    "    # パラメータ\n",
    "    mlflow.log_param(\"model\", \"gpt-4o-mini\")\n",
    "    mlflow.log_param(\"temperature\", 0.0)\n",
    "    mlflow.log_param(\"optimizer\", \"BootstrapFewShot\")\n",
    "    mlflow.log_param(\"num_customers\", len(sample_customers))\n",
    "    \n",
    "    # メトリクス\n",
    "    mlflow.log_metric(\"baseline_score\", baseline_score)\n",
    "    mlflow.log_metric(\"optimized_score\", optimized_score)\n",
    "    mlflow.log_metric(\"improvement\", optimized_score - baseline_score)\n",
    "    mlflow.log_metric(\"improvement_pct\", (optimized_score - baseline_score) / baseline_score * 100)\n",
    "    \n",
    "    # 個別顧客スコア\n",
    "    for idx, row in results_df.iterrows():\n",
    "        mlflow.log_metric(f\"customer_{idx+1}_baseline\", row[\"baseline_score\"])\n",
    "        mlflow.log_metric(f\"customer_{idx+1}_optimized\", row[\"optimized_score\"])\n",
    "    \n",
    "    # 結果をCSVで保存\n",
    "    results_df.to_csv(\"optimization_results.csv\", index=False)\n",
    "    mlflow.log_artifact(\"optimization_results.csv\")\n",
    "    \n",
    "    print(\"\\n✓ MLflowに結果を記録完了\")"
   ]
  },
  {
   "cell_type": "markdown",
   "metadata": {
    "application/vnd.databricks.v1+cell": {
     "cellMetadata": {
      "byteLimit": 2048000,
      "rowLimit": 10000
     },
     "inputWidgets": {},
     "nuid": "c6112e06-f7ca-4f12-a08e-057661911919",
     "showTitle": false,
     "tableResultSettingsMap": {},
     "title": ""
    }
   },
   "source": [
    "## セル12: サンプル要約の表示"
   ]
  },
  {
   "cell_type": "code",
   "execution_count": 0,
   "metadata": {
    "application/vnd.databricks.v1+cell": {
     "cellMetadata": {
      "byteLimit": 2048000,
      "rowLimit": 10000
     },
     "inputWidgets": {},
     "nuid": "fda598bf-841f-4834-96b2-77d2fd847610",
     "showTitle": false,
     "tableResultSettingsMap": {},
     "title": ""
    }
   },
   "outputs": [],
   "source": [
    "print(\"\\n\" + \"=\" * 80)\n",
    "print(\"要約サンプル比較\")\n",
    "print(\"=\" * 80)\n",
    "\n",
    "for idx in range(min(2, len(results_df))):\n",
    "    row = results_df.iloc[idx]\n",
    "    print(f\"\\n【顧客{idx+1}: {row['name']}】\")\n",
    "    print(f\"\\n■ベースライン (スコア: {row['baseline_score']:.2f})\")\n",
    "    print(row['baseline_summary'])\n",
    "    print(f\"\\n■最適化後 (スコア: {row['optimized_score']:.2f})\")\n",
    "    print(row['optimized_summary'])\n",
    "    print(f\"\\n改善: {row['improvement']:+.2f}\")\n",
    "    print(\"-\" * 80)"
   ]
  },
  {
   "cell_type": "code",
   "execution_count": 0,
   "metadata": {
    "application/vnd.databricks.v1+cell": {
     "cellMetadata": {
      "byteLimit": 2048000,
      "rowLimit": 10000
     },
     "inputWidgets": {},
     "nuid": "03f50097-1154-4a0d-a599-dff559b75a36",
     "showTitle": false,
     "tableResultSettingsMap": {},
     "title": ""
    }
   },
   "outputs": [],
   "source": [
    "# ===== 診断セル: 評価関数のテスト =====\n",
    "\n",
    "print(\"=\" * 60)\n",
    "print(\"評価関数の診断\")\n",
    "print(\"=\" * 60)\n",
    "\n",
    "# テスト用に1件要約を生成\n",
    "test_customer = sample_customers[0]\n",
    "test_model = SummaryModule()\n",
    "\n",
    "test_pred = test_model(\n",
    "    customer_id=test_customer[\"id\"],\n",
    "    name=test_customer[\"name\"],\n",
    "    age=str(test_customer[\"age\"]),\n",
    "    occupation=test_customer[\"occupation\"],\n",
    "    purchase_history=test_customer[\"purchase_history\"],\n",
    "    inquiries=test_customer[\"inquiries\"],\n",
    "    notes=test_customer[\"notes\"]\n",
    ")\n",
    "\n",
    "print(f\"\\n生成された要約:\")\n",
    "print(test_pred.summary)\n",
    "\n",
    "print(f\"\\n評価開始...\")\n",
    "\n",
    "# Judgeで評価\n",
    "try:\n",
    "    assessment = judge(summary=test_pred.summary)\n",
    "    print(f\"\\nJudge評価結果:\")\n",
    "    print(f\"  score: {assessment.score}\")\n",
    "    print(f\"  reasoning: {assessment.reasoning}\")\n",
    "    \n",
    "    # スコア変換テスト\n",
    "    try:\n",
    "        score_int = int(assessment.score)\n",
    "        normalized = score_int / 10.0\n",
    "        print(f\"\\n変換後スコア: {normalized}\")\n",
    "    except Exception as e:\n",
    "        print(f\"\\nスコア変換エラー: {e}\")\n",
    "        print(f\"assessment.scoreの型: {type(assessment.score)}\")\n",
    "        print(f\"assessment.scoreの値: {assessment.score}\")\n",
    "        \n",
    "except Exception as e:\n",
    "    print(f\"\\nJudge実行エラー: {e}\")\n",
    "    import traceback\n",
    "    traceback.print_exc()"
   ]
  }
 ],
 "metadata": {
  "application/vnd.databricks.v1+notebook": {
   "computePreferences": {
    "hardware": {
     "accelerator": null,
     "gpuPoolId": null,
     "memory": null
    }
   },
   "dashboards": [],
   "environmentMetadata": {
    "base_environment": "",
    "environment_version": "2"
   },
   "inputWidgetPreferences": null,
   "language": "python",
   "notebookMetadata": {
    "pythonIndentUnit": 4
   },
   "notebookName": "llm",
   "widgets": {}
  },
  "kernelspec": {
   "display_name": "Python 3",
   "language": "python",
   "name": "python3"
  },
  "language_info": {
   "name": "python"
  }
 },
 "nbformat": 4,
 "nbformat_minor": 0
}
