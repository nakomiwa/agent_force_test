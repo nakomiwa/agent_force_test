{
 "cells": [
  {
   "cell_type": "markdown",
   "metadata": {
    "application/vnd.databricks.v1+cell": {
     "cellMetadata": {},
     "inputWidgets": {},
     "nuid": "7027ac9e-86ad-41d1-9d40-c81381fa7256",
     "showTitle": false,
     "tableResultSettingsMap": {},
     "title": ""
    }
   },
   "source": [
    "◆役割\n",
    "あなたはpythonのプログラマのスペシャリスト\n",
    "LLMの実装に習熟している\n",
    "\n",
    "◆仕様\n",
    "顧客情報を要約させるチャットを作りたい\n",
    "RAGは使わない\n",
    "\n",
    "プロンプト案を複数作成する\n",
    "DSPYを使ってプロンプトを最適化する\n",
    "顧客情報を取り込む（サンプルデータでよい）\n",
    "LLMに連携し、要約結果を得る\n",
    "要約結果が簡潔であるか、わかりやすいか、一貫性があるかをLLMasaJudgeでテストする\n",
    "LLMの回答は再現性がないため、tempertureを0にしたうえで、3回施行し、その結果の平均値を評価する\n",
    "評価の関数はDSpyのevaluateでカスタムの評価関数をさk巣栄する\n",
    "施行の結果をMLFlowで\n",
    "\n",
    "OpenAIのAPIを利用\n",
    "モデル：gpt4-o-mini\n",
    "APIキー：XXXXX（別途設定）\n",
    "\n",
    "まずはノートブックで実行したい\n",
    "動作が確認できてからクラス化、関数化をするので、それを意識した処理に分けてほしい\n"
   ]
  },
  {
   "cell_type": "code",
   "execution_count": 0,
   "metadata": {
    "application/vnd.databricks.v1+cell": {
     "cellMetadata": {
      "byteLimit": 2048000,
      "rowLimit": 10000
     },
     "inputWidgets": {},
     "nuid": "6cf71c6f-ba89-486a-abe9-40ad5b664581",
     "showTitle": false,
     "tableResultSettingsMap": {},
     "title": ""
    }
   },
   "outputs": [],
   "source": [
    "# 必要なライブラリのインストール\n",
    "!pip install dspy-ai openai mlflow pandas numpy"
   ]
  },
  {
   "cell_type": "code",
   "execution_count": 0,
   "metadata": {
    "application/vnd.databricks.v1+cell": {
     "cellMetadata": {
      "byteLimit": 2048000,
      "rowLimit": 10000
     },
     "inputWidgets": {},
     "nuid": "eeb9f35a-ca57-484c-a594-f3ab4974c818",
     "showTitle": false,
     "tableResultSettingsMap": {},
     "title": ""
    }
   },
   "outputs": [],
   "source": [
    "dbutils.library.restartPython() "
   ]
  },
  {
   "cell_type": "code",
   "execution_count": 0,
   "metadata": {
    "application/vnd.databricks.v1+cell": {
     "cellMetadata": {
      "byteLimit": 2048000,
      "rowLimit": 10000
     },
     "inputWidgets": {},
     "nuid": "dab6b481-f5db-4530-ac4b-7b4f60e82e9c",
     "showTitle": false,
     "tableResultSettingsMap": {},
     "title": ""
    }
   },
   "outputs": [],
   "source": [
    "import dspy\n",
    "from dspy.evaluate import Evaluate\n",
    "from dspy.teleprompt import BootstrapFewShot\n",
    "import openai\n",
    "import mlflow\n",
    "import pandas as pd\n",
    "import numpy as np\n",
    "from typing import List, Dict\n",
    "import os\n",
    "from datetime import datetime\n",
    "\n",
    "# MLflow設定\n",
    "mlflow.openai.autolog()\n",
    "mlflow.set_experiment(experiment_id=2762244084694123)"
   ]
  },
  {
   "cell_type": "code",
   "execution_count": 0,
   "metadata": {
    "application/vnd.databricks.v1+cell": {
     "cellMetadata": {
      "byteLimit": 2048000,
      "rowLimit": 10000
     },
     "inputWidgets": {},
     "nuid": "8bbf578a-8ee8-43bb-b121-47c3ab78d684",
     "showTitle": false,
     "tableResultSettingsMap": {},
     "title": ""
    }
   },
   "outputs": [],
   "source": [
    "# 顧客情報サンプルデータ\n",
    "sample_customers = [\n",
    "    {\n",
    "        \"id\": \"C001\",\n",
    "        \"name\": \"山田太郎\",\n",
    "        \"age\": 35,\n",
    "        \"occupation\": \"会社員\",\n",
    "        \"purchase_history\": \"過去6ヶ月で3回購入。主に電化製品を購入。平均購入額は5万円。\",\n",
    "        \"inquiries\": \"配送に関する問い合わせが2件。製品の使い方に関する質問が1件。\",\n",
    "        \"notes\": \"リピート顧客。メールマガジン購読中。次回購入時10%割引クーポン保有。\"\n",
    "    },\n",
    "    {\n",
    "        \"id\": \"C002\",\n",
    "        \"name\": \"佐藤花子\",\n",
    "        \"age\": 28,\n",
    "        \"occupation\": \"自営業\",\n",
    "        \"purchase_history\": \"初回購入。書籍とオフィス用品を購入。購入額は1.2万円。\",\n",
    "        \"inquiries\": \"返品ポリシーに関する問い合わせが1件。\",\n",
    "        \"notes\": \"新規顧客。SNS経由での流入。レビュー投稿の依頼中。\"\n",
    "    },\n",
    "    {\n",
    "        \"id\": \"C003\",\n",
    "        \"name\": \"鈴木一郎\",\n",
    "        \"age\": 42,\n",
    "        \"occupation\": \"経営者\",\n",
    "        \"purchase_history\": \"VIP顧客。月に2-3回購入。高額商品を好む傾向。累計購入額200万円超。\",\n",
    "        \"inquiries\": \"VIPサポート窓口利用。製品カスタマイズの相談が複数回。\",\n",
    "        \"notes\": \"優良顧客。専任担当者あり。法人契約も検討中。誕生日月に特別オファー送付済み。\"\n",
    "    },\n",
    "    {\n",
    "        \"id\": \"C004\",\n",
    "        \"name\": \"田中美咲\",\n",
    "        \"age\": 31,\n",
    "        \"occupation\": \"看護師\",\n",
    "        \"purchase_history\": \"過去1年で5回購入。健康関連商品とコスメを主に購入。平均購入額3万円。\",\n",
    "        \"inquiries\": \"製品の成分に関する詳細な問い合わせが3件。アレルギー対応の確認。\",\n",
    "        \"notes\": \"健康志向の高い顧客。定期購入プラン加入中。友人紹介プログラム利用歴あり。\"\n",
    "    },\n",
    "    {\n",
    "        \"id\": \"C005\",\n",
    "        \"name\": \"高橋健二\",\n",
    "        \"age\": 55,\n",
    "        \"occupation\": \"公務員\",\n",
    "        \"purchase_history\": \"2年前から顧客。年に4-5回購入。趣味関連の商品を購入。平均購入額4万円。\",\n",
    "        \"inquiries\": \"配送遅延に関するクレームが1件。その後のフォローアップで満足度回復。\",\n",
    "        \"notes\": \"安定した購入パターン。ポイントプログラム活用。過去にクレームあったが現在は良好な関係。\"\n",
    "    }\n",
    "]\n",
    "\n",
    "# データフレーム化\n",
    "df_customers = pd.DataFrame(sample_customers)\n",
    "print(\"サンプルデータ件数:\", len(df_customers))\n",
    "print(\"\\n最初の顧客データ:\")\n",
    "print(df_customers.iloc[0].to_dict())"
   ]
  },
  {
   "cell_type": "code",
   "execution_count": 0,
   "metadata": {
    "application/vnd.databricks.v1+cell": {
     "cellMetadata": {
      "byteLimit": 2048000,
      "rowLimit": 10000
     },
     "inputWidgets": {},
     "nuid": "7ef01d7d-0c21-4fb5-9dd9-7e43a7e92363",
     "showTitle": false,
     "tableResultSettingsMap": {},
     "title": ""
    }
   },
   "outputs": [],
   "source": [
    "# OpenAI LM設定(temperature=0で再現性を確保)\n",
    "lm = dspy.LM(\n",
    "    model='gpt-4o-mini',\n",
    "    api_key=os.environ[\"OPENAI_API_KEY\"],\n",
    "    temperature=0.0,\n",
    "    max_tokens=500\n",
    ")\n",
    "\n",
    "dspy.settings.configure(lm=lm)\n",
    "\n",
    "# 顧客情報要約のシグネチャ定義\n",
    "class CustomerSummarySignature(dspy.Signature):\n",
    "    \"\"\"顧客情報を簡潔かつ明確に要約します。\"\"\"\n",
    "    \n",
    "    customer_id = dspy.InputField(desc=\"顧客ID\")\n",
    "    name = dspy.InputField(desc=\"顧客名\")\n",
    "    age = dspy.InputField(desc=\"年齢\")\n",
    "    occupation = dspy.InputField(desc=\"職業\")\n",
    "    purchase_history = dspy.InputField(desc=\"購入履歴\")\n",
    "    inquiries = dspy.InputField(desc=\"問い合わせ履歴\")\n",
    "    notes = dspy.InputField(desc=\"備考\")\n",
    "    \n",
    "    summary = dspy.OutputField(desc=\"顧客情報の要約(200文字以内、簡潔で分かりやすく一貫性のある内容)\")"
   ]
  },
  {
   "cell_type": "code",
   "execution_count": 0,
   "metadata": {
    "application/vnd.databricks.v1+cell": {
     "cellMetadata": {
      "byteLimit": 2048000,
      "rowLimit": 10000
     },
     "inputWidgets": {},
     "nuid": "5a134ac6-8c8d-4e0c-91ba-2e10fd289908",
     "showTitle": false,
     "tableResultSettingsMap": {},
     "title": ""
    }
   },
   "outputs": [],
   "source": [
    "# プロンプト案1: 基本的な要約\n",
    "class BasicSummaryModule(dspy.Module):\n",
    "    def __init__(self):\n",
    "        super().__init__()\n",
    "        self.summarize = dspy.ChainOfThought(CustomerSummarySignature)\n",
    "    \n",
    "    def forward(self, customer_id, name, age, occupation, purchase_history, inquiries, notes):\n",
    "        result = self.summarize(\n",
    "            customer_id=customer_id,\n",
    "            name=name,\n",
    "            age=age,\n",
    "            occupation=occupation,\n",
    "            purchase_history=purchase_history,\n",
    "            inquiries=inquiries,\n",
    "            notes=notes\n",
    "        )\n",
    "        return result\n",
    "\n",
    "# プロンプト案2: 構造化された要約\n",
    "class StructuredSummaryModule(dspy.Module):\n",
    "    def __init__(self):\n",
    "        super().__init__()\n",
    "        self.summarize = dspy.Predict(CustomerSummarySignature)\n",
    "    \n",
    "    def forward(self, customer_id, name, age, occupation, purchase_history, inquiries, notes):\n",
    "        # 構造化されたプロンプト指示を追加\n",
    "        structured_notes = f\"{notes}\\n\\n要約形式: [顧客属性] [購入傾向] [注意事項]の順で記載\"\n",
    "        result = self.summarize(\n",
    "            customer_id=customer_id,\n",
    "            name=name,\n",
    "            age=age,\n",
    "            occupation=occupation,\n",
    "            purchase_history=purchase_history,\n",
    "            inquiries=inquiries,\n",
    "            notes=structured_notes\n",
    "        )\n",
    "        return result\n",
    "\n",
    "# プロンプト案3: ビジネス重視の要約\n",
    "class BusinessFocusedSummaryModule(dspy.Module):\n",
    "    def __init__(self):\n",
    "        super().__init__()\n",
    "        self.summarize = dspy.ChainOfThought(CustomerSummarySignature)\n",
    "    \n",
    "    def forward(self, customer_id, name, age, occupation, purchase_history, inquiries, notes):\n",
    "        # ビジネス視点を強調\n",
    "        business_notes = f\"{notes}\\n\\n重点: 顧客価値、リスク、次回アクション提案を含める\"\n",
    "        result = self.summarize(\n",
    "            customer_id=customer_id,\n",
    "            name=name,\n",
    "            age=age,\n",
    "            occupation=occupation,\n",
    "            purchase_history=purchase_history,\n",
    "            inquiries=inquiries,\n",
    "            notes=business_notes\n",
    "        )\n",
    "        return result\n",
    "\n",
    "print(\"3つのプロンプトモジュールを定義完了\")"
   ]
  },
  {
   "cell_type": "code",
   "execution_count": 0,
   "metadata": {
    "application/vnd.databricks.v1+cell": {
     "cellMetadata": {
      "byteLimit": 2048000,
      "rowLimit": 10000
     },
     "inputWidgets": {},
     "nuid": "2bb3cf4d-3660-4fcb-8ce3-22b343c46667",
     "showTitle": false,
     "tableResultSettingsMap": {},
     "title": ""
    }
   },
   "outputs": [],
   "source": [
    "# 評価用のLLM設定(Judge用は少し高めのtemperatureも可)\n",
    "judge_lm = dspy.LM(\n",
    "    model='gpt-4o-mini',\n",
    "    api_key=os.environ[\"OPENAI_API_KEY\"],\n",
    "    temperature=0.0,\n",
    "    max_tokens=200\n",
    ")\n",
    "\n",
    "# 評価シグネチャ\n",
    "class EvaluationSignature(dspy.Signature):\n",
    "    \"\"\"要約の品質を評価します。\"\"\"\n",
    "    \n",
    "    summary = dspy.InputField(desc=\"評価対象の要約文\")\n",
    "    criteria = dspy.InputField(desc=\"評価基準\")\n",
    "    \n",
    "    score = dspy.OutputField(desc=\"スコア(0-10の整数)\")\n",
    "    reasoning = dspy.OutputField(desc=\"評価理由\")\n",
    "\n",
    "# 評価モジュール\n",
    "class SummaryJudge(dspy.Module):\n",
    "    def __init__(self):\n",
    "        super().__init__()\n",
    "        with dspy.context(lm=judge_lm):\n",
    "            self.evaluate = dspy.Predict(EvaluationSignature)\n",
    "    \n",
    "    def forward(self, summary, criteria):\n",
    "        with dspy.context(lm=judge_lm):\n",
    "            result = self.evaluate(summary=summary, criteria=criteria)\n",
    "        return result\n",
    "\n",
    "judge = SummaryJudge()\n",
    "\n",
    "# カスタム評価関数(簡潔性、明瞭性、一貫性を評価)\n",
    "def evaluate_summary_quality(example, prediction, trace=None):\n",
    "    \"\"\"\n",
    "    要約の品質を3つの観点で評価\n",
    "    - 簡潔性: 適切な長さで無駄がないか\n",
    "    - 明瞭性: 理解しやすく明確か\n",
    "    - 一貫性: 情報が矛盾なく整理されているか\n",
    "    \"\"\"\n",
    "    summary = prediction.summary if hasattr(prediction, 'summary') else str(prediction)\n",
    "    \n",
    "    # 3つの観点で評価\n",
    "    criteria_list = [\n",
    "        \"簡潔性: 要約は適切な長さで、冗長な表現がなく、要点が絞られているか(10点満点)\",\n",
    "        \"明瞭性: 要約は分かりやすく、専門用語の説明があり、読みやすいか(10点満点)\",\n",
    "        \"一貫性: 情報が矛盾なく、論理的に整理され、一貫した視点で記述されているか(10点満点)\"\n",
    "    ]\n",
    "    \n",
    "    scores = []\n",
    "    reasonings = []\n",
    "    \n",
    "    for criteria in criteria_list:\n",
    "        result = judge(summary=summary, criteria=criteria)\n",
    "        try:\n",
    "            score = int(result.score)\n",
    "            scores.append(score)\n",
    "            reasonings.append(result.reasoning)\n",
    "        except:\n",
    "            scores.append(0)\n",
    "            reasonings.append(\"評価エラー\")\n",
    "    \n",
    "    # 平均スコアを計算(0-10のスケール)\n",
    "    avg_score = np.mean(scores)\n",
    "    \n",
    "    # DSPy評価用に0-1のスケールに正規化\n",
    "    normalized_score = avg_score / 10.0\n",
    "    \n",
    "    return normalized_score, {\n",
    "        \"conciseness_score\": scores[0],\n",
    "        \"clarity_score\": scores[1],\n",
    "        \"consistency_score\": scores[2],\n",
    "        \"average_score\": avg_score,\n",
    "        \"reasonings\": reasonings\n",
    "    }\n",
    "\n",
    "print(\"評価関数を定義完了\")"
   ]
  },
  {
   "cell_type": "code",
   "execution_count": 0,
   "metadata": {
    "application/vnd.databricks.v1+cell": {
     "cellMetadata": {
      "byteLimit": 2048000,
      "rowLimit": 10000
     },
     "inputWidgets": {},
     "nuid": "48bfe1e0-7e98-4511-a457-cb3a6da0dbc1",
     "showTitle": false,
     "tableResultSettingsMap": {},
     "title": ""
    }
   },
   "outputs": [],
   "source": [
    "def evaluate_with_multiple_trials(module, customer_data, num_trials=3):\n",
    "    \"\"\"\n",
    "    同じ入力で3回試行し、結果の平均を取る\n",
    "    \"\"\"\n",
    "    all_summaries = []\n",
    "    all_scores = []\n",
    "    all_details = []\n",
    "    \n",
    "    for trial in range(num_trials):\n",
    "        # 要約生成\n",
    "        prediction = module(\n",
    "            customer_id=customer_data['id'],\n",
    "            name=customer_data['name'],\n",
    "            age=str(customer_data['age']),\n",
    "            occupation=customer_data['occupation'],\n",
    "            purchase_history=customer_data['purchase_history'],\n",
    "            inquiries=customer_data['inquiries'],\n",
    "            notes=customer_data['notes']\n",
    "        )\n",
    "        \n",
    "        # 評価\n",
    "        score, details = evaluate_summary_quality(customer_data, prediction)\n",
    "        \n",
    "        all_summaries.append(prediction.summary)\n",
    "        all_scores.append(score)\n",
    "        all_details.append(details)\n",
    "        \n",
    "        print(f\"  試行 {trial + 1}: スコア = {details['average_score']:.2f}/10\")\n",
    "    \n",
    "    # 平均計算\n",
    "    avg_normalized_score = np.mean(all_scores)\n",
    "    avg_raw_score = np.mean([d['average_score'] for d in all_details])\n",
    "    \n",
    "    return {\n",
    "        \"summaries\": all_summaries,\n",
    "        \"normalized_scores\": all_scores,\n",
    "        \"avg_normalized_score\": avg_normalized_score,\n",
    "        \"avg_raw_score\": avg_raw_score,\n",
    "        \"trial_details\": all_details\n",
    "    }\n",
    "\n",
    "print(\"複数試行評価関数を定義完了\")"
   ]
  },
  {
   "cell_type": "code",
   "execution_count": 0,
   "metadata": {
    "application/vnd.databricks.v1+cell": {
     "cellMetadata": {
      "byteLimit": 2048000,
      "rowLimit": 10000
     },
     "inputWidgets": {},
     "nuid": "bcc08f21-4e1d-4ec2-8626-aea3bb2f5822",
     "showTitle": false,
     "tableResultSettingsMap": {},
     "title": ""
    }
   },
   "outputs": [],
   "source": [
    "# 評価結果を保存する辞書\n",
    "evaluation_results = {}\n",
    "\n",
    "# 3つのモジュールを初期化\n",
    "modules = {\n",
    "    \"basic\": BasicSummaryModule(),\n",
    "    \"structured\": StructuredSummaryModule(),\n",
    "    \"business_focused\": BusinessFocusedSummaryModule()\n",
    "}\n",
    "\n",
    "# 各モジュールを評価\n",
    "for module_name, module in modules.items():\n",
    "    print(f\"\\n{'='*60}\")\n",
    "    print(f\"モジュール評価開始: {module_name}\")\n",
    "    print(f\"{'='*60}\")\n",
    "    \n",
    "    module_results = []\n",
    "    \n",
    "    # 各顧客データで評価\n",
    "    for idx, customer in enumerate(sample_customers):\n",
    "        print(f\"\\n顧客 {idx + 1}/{len(sample_customers)}: {customer['name']}\")\n",
    "        \n",
    "        result = evaluate_with_multiple_trials(module, customer, num_trials=3)\n",
    "        result['customer_id'] = customer['id']\n",
    "        result['customer_name'] = customer['name']\n",
    "        module_results.append(result)\n",
    "    \n",
    "    evaluation_results[module_name] = module_results\n",
    "    \n",
    "    # モジュール全体の平均スコア\n",
    "    overall_avg = np.mean([r['avg_raw_score'] for r in module_results])\n",
    "    print(f\"\\n{module_name} 全体平均スコア: {overall_avg:.2f}/10\")\n",
    "\n",
    "print(\"\\n\\n全モジュールの評価完了\")"
   ]
  },
  {
   "cell_type": "code",
   "execution_count": 0,
   "metadata": {
    "application/vnd.databricks.v1+cell": {
     "cellMetadata": {
      "byteLimit": 2048000,
      "rowLimit": 10000
     },
     "inputWidgets": {},
     "nuid": "f857e60c-fd85-4bee-bfde-1b4caa8b77ab",
     "showTitle": false,
     "tableResultSettingsMap": {},
     "title": ""
    }
   },
   "outputs": [],
   "source": [
    "# 各モジュールの結果をMLflowに記録\n",
    "for module_name, results in evaluation_results.items():\n",
    "    with mlflow.start_run(run_name=f\"prompt_{module_name}\"):\n",
    "        # パラメータ記録\n",
    "        mlflow.log_param(\"module_type\", module_name)\n",
    "        mlflow.log_param(\"model\", \"gpt-4o-mini\")\n",
    "        mlflow.log_param(\"temperature\", 0.0)\n",
    "        mlflow.log_param(\"num_trials\", 3)\n",
    "        mlflow.log_param(\"num_customers\", len(results))\n",
    "        \n",
    "        # 全体メトリクス\n",
    "        overall_avg_score = np.mean([r['avg_raw_score'] for r in results])\n",
    "        overall_conciseness = np.mean([\n",
    "            np.mean([d['conciseness_score'] for d in r['trial_details']]) \n",
    "            for r in results\n",
    "        ])\n",
    "        overall_clarity = np.mean([\n",
    "            np.mean([d['clarity_score'] for d in r['trial_details']]) \n",
    "            for r in results\n",
    "        ])\n",
    "        overall_consistency = np.mean([\n",
    "            np.mean([d['consistency_score'] for d in r['trial_details']]) \n",
    "            for r in results\n",
    "        ])\n",
    "        \n",
    "        mlflow.log_metric(\"overall_avg_score\", overall_avg_score)\n",
    "        mlflow.log_metric(\"overall_conciseness\", overall_conciseness)\n",
    "        mlflow.log_metric(\"overall_clarity\", overall_clarity)\n",
    "        mlflow.log_metric(\"overall_consistency\", overall_consistency)\n",
    "        \n",
    "        # 顧客別メトリクス\n",
    "        for idx, result in enumerate(results):\n",
    "            mlflow.log_metric(f\"customer_{idx+1}_avg_score\", result['avg_raw_score'])\n",
    "        \n",
    "        # 結果の詳細をアーティファクトとして保存\n",
    "        results_df = pd.DataFrame([\n",
    "            {\n",
    "                'customer_id': r['customer_id'],\n",
    "                'customer_name': r['customer_name'],\n",
    "                'avg_score': r['avg_raw_score'],\n",
    "                'summary_1': r['summaries'][0],\n",
    "                'summary_2': r['summaries'][1],\n",
    "                'summary_3': r['summaries'][2]\n",
    "            }\n",
    "            for r in results\n",
    "        ])\n",
    "        \n",
    "        results_df.to_csv(f\"{module_name}_results.csv\", index=False)\n",
    "        mlflow.log_artifact(f\"{module_name}_results.csv\")\n",
    "        \n",
    "        print(f\"\\n{module_name} の結果をMLflowに記録完了\")\n",
    "\n",
    "print(\"\\n全ての結果をMLflowに記録完了\")"
   ]
  },
  {
   "cell_type": "code",
   "execution_count": 0,
   "metadata": {
    "application/vnd.databricks.v1+cell": {
     "cellMetadata": {
      "byteLimit": 2048000,
      "rowLimit": 10000
     },
     "inputWidgets": {},
     "nuid": "0179c89b-9a34-4c1f-8bc7-1c8bfd41bdf3",
     "showTitle": false,
     "tableResultSettingsMap": {},
     "title": ""
    }
   },
   "outputs": [],
   "source": [
    "# 結果の比較表を作成\n",
    "comparison_data = []\n",
    "\n",
    "for module_name, results in evaluation_results.items():\n",
    "    overall_avg = np.mean([r['avg_raw_score'] for r in results])\n",
    "    conciseness = np.mean([\n",
    "        np.mean([d['conciseness_score'] for d in r['trial_details']]) \n",
    "        for r in results\n",
    "    ])\n",
    "    clarity = np.mean([\n",
    "        np.mean([d['clarity_score'] for d in r['trial_details']]) \n",
    "        for r in results\n",
    "    ])\n",
    "    consistency = np.mean([\n",
    "        np.mean([d['consistency_score'] for d in r['trial_details']]) \n",
    "        for r in results\n",
    "    ])\n",
    "    \n",
    "    comparison_data.append({\n",
    "        'モジュール': module_name,\n",
    "        '総合スコア': f\"{overall_avg:.2f}\",\n",
    "        '簡潔性': f\"{conciseness:.2f}\",\n",
    "        '明瞭性': f\"{clarity:.2f}\",\n",
    "        '一貫性': f\"{consistency:.2f}\"\n",
    "    })\n",
    "\n",
    "comparison_df = pd.DataFrame(comparison_data)\n",
    "print(\"\\n\" + \"=\"*80)\n",
    "print(\"プロンプト案の比較結果\")\n",
    "print(\"=\"*80)\n",
    "print(comparison_df.to_string(index=False))\n",
    "print(\"=\"*80)\n",
    "\n",
    "# 最良のモジュールを特定\n",
    "best_module = max(\n",
    "    evaluation_results.items(),\n",
    "    key=lambda x: np.mean([r['avg_raw_score'] for r in x[1]])\n",
    ")\n",
    "print(f\"\\n最良のプロンプト案: {best_module[0]}\")\n",
    "print(f\"スコア: {np.mean([r['avg_raw_score'] for r in best_module[1]]):.2f}/10\")"
   ]
  },
  {
   "cell_type": "code",
   "execution_count": 0,
   "metadata": {
    "application/vnd.databricks.v1+cell": {
     "cellMetadata": {
      "byteLimit": 2048000,
      "rowLimit": 10000
     },
     "inputWidgets": {},
     "nuid": "fada8220-6fc9-4db6-ade6-024210b9e692",
     "showTitle": false,
     "tableResultSettingsMap": {},
     "title": ""
    }
   },
   "outputs": [],
   "source": [
    "# 最良のモジュールでのサンプル要約を表示\n",
    "print(\"\\n\" + \"=\"*80)\n",
    "print(f\"【{best_module[0]}】の要約サンプル\")\n",
    "print(\"=\"*80)\n",
    "\n",
    "for idx, result in enumerate(best_module[1][:2]):  # 最初の2顧客のみ表示\n",
    "    print(f\"\\n顧客: {result['customer_name']} ({result['customer_id']})\")\n",
    "    print(f\"平均スコア: {result['avg_raw_score']:.2f}/10\")\n",
    "    print(f\"\\n要約例(試行1):\")\n",
    "    print(result['summaries'][0])\n",
    "    print(f\"\\n評価詳細:\")\n",
    "    print(f\"  簡潔性: {result['trial_details'][0]['conciseness_score']}/10\")\n",
    "    print(f\"  明瞭性: {result['trial_details'][0]['clarity_score']}/10\")\n",
    "    print(f\"  一貫性: {result['trial_details'][0]['consistency_score']}/10\")\n",
    "    print(\"-\" * 80)"
   ]
  }
 ],
 "metadata": {
  "application/vnd.databricks.v1+notebook": {
   "computePreferences": {
    "hardware": {
     "accelerator": null,
     "gpuPoolId": null,
     "memory": null
    }
   },
   "dashboards": [],
   "environmentMetadata": {
    "base_environment": "",
    "environment_version": "4"
   },
   "inputWidgetPreferences": null,
   "language": "python",
   "notebookMetadata": {
    "pythonIndentUnit": 4
   },
   "notebookName": "llm",
   "widgets": {}
  },
  "language_info": {
   "name": "python"
  }
 },
 "nbformat": 4,
 "nbformat_minor": 0
}
