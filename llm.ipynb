{
 "cells": [
  {
   "cell_type": "code",
   "execution_count": 0,
   "metadata": {
    "application/vnd.databricks.v1+cell": {
     "cellMetadata": {
      "byteLimit": 2048000,
      "rowLimit": 10000
     },
     "inputWidgets": {},
     "nuid": "dc5cbfba-2c28-473f-97ed-2e0153401d92",
     "showTitle": false,
     "tableResultSettingsMap": {},
     "title": ""
    }
   },
   "outputs": [],
   "source": [
    "!pip install dspy-ai openai mlflow pandas numpy"
   ]
  },
  {
   "cell_type": "code",
   "execution_count": 0,
   "metadata": {
    "application/vnd.databricks.v1+cell": {
     "cellMetadata": {
      "byteLimit": 2048000,
      "rowLimit": 10000
     },
     "inputWidgets": {},
     "nuid": "85ce36cd-d229-43c8-9cb2-d410bd53f878",
     "showTitle": false,
     "tableResultSettingsMap": {},
     "title": ""
    }
   },
   "outputs": [],
   "source": [
    "dbutils.library.restartPython()"
   ]
  },
  {
   "cell_type": "code",
   "execution_count": 0,
   "metadata": {
    "application/vnd.databricks.v1+cell": {
     "cellMetadata": {
      "byteLimit": 2048000,
      "rowLimit": 10000
     },
     "inputWidgets": {},
     "nuid": "6bbbec1b-c330-4da2-849c-47d1e0e1abc0",
     "showTitle": false,
     "tableResultSettingsMap": {},
     "title": ""
    }
   },
   "outputs": [],
   "source": [
    "# ============================================================\n",
    "# セル2: ライブラリインポート\n",
    "# ============================================================\n",
    "\n",
    "import os\n",
    "import json\n",
    "from typing import List, Dict\n",
    "from openai import OpenAI\n",
    "import mlflow\n",
    "import pandas as pd\n",
    "from datetime import datetime\n",
    "\n",
    "client = OpenAI()\n",
    "print(\"✓ 環境セットアップ完了\")"
   ]
  },
  {
   "cell_type": "code",
   "execution_count": 0,
   "metadata": {
    "application/vnd.databricks.v1+cell": {
     "cellMetadata": {
      "byteLimit": 2048000,
      "rowLimit": 10000
     },
     "inputWidgets": {},
     "nuid": "ad2748ad-c782-4e5e-be21-49e4dfb106ad",
     "showTitle": false,
     "tableResultSettingsMap": {},
     "title": ""
    }
   },
   "outputs": [],
   "source": [
    "# ============================================================\n",
    "# セル3: テストデータセット作成（修正版）\n",
    "# ============================================================\n",
    "\n",
    "# 顧客サマリー生成のテストケース\n",
    "test_customers = [\n",
    "    {\n",
    "        \"customer_id\": \"C001\",  # idからcustomer_idに変更\n",
    "        \"name\": \"山田太郎\",\n",
    "        \"age\": 35,\n",
    "        \"occupation\": \"会社員\",\n",
    "        \"purchase_history\": \"過去6ヶ月で電化製品を3回購入\",\n",
    "        \"inquiries\": \"配送に関する問い合わせ2件、製品の使い方1件\",\n",
    "        \"notes\": \"メールマガジン購読中、次回購入時10%割引クーポン保有\"\n",
    "    },\n",
    "    {\n",
    "        \"customer_id\": \"C002\",\n",
    "        \"name\": \"佐藤花子\",\n",
    "        \"age\": 28,\n",
    "        \"occupation\": \"フリーランスデザイナー\",\n",
    "        \"purchase_history\": \"初回購入、ノートPC 1台\",\n",
    "        \"inquiries\": \"製品仕様の詳細確認、納期確認\",\n",
    "        \"notes\": \"企業向けアカウント検討中、見積依頼あり\"\n",
    "    },\n",
    "    {\n",
    "        \"customer_id\": \"C003\",\n",
    "        \"name\": \"鈴木一郎\",\n",
    "        \"age\": 52,\n",
    "        \"occupation\": \"自営業\",\n",
    "        \"purchase_history\": \"月1回ペースで事務用品を購入、累計15回\",\n",
    "        \"inquiries\": \"請求書発行依頼が多い\",\n",
    "        \"notes\": \"法人契約希望、大量発注の可能性あり\"\n",
    "    }\n",
    "]\n",
    "\n",
    "print(f\"✓ テストデータ: {len(test_customers)}件\")\n"
   ]
  },
  {
   "cell_type": "code",
   "execution_count": 0,
   "metadata": {
    "application/vnd.databricks.v1+cell": {
     "cellMetadata": {
      "byteLimit": 2048000,
      "rowLimit": 10000
     },
     "inputWidgets": {},
     "nuid": "ffb37b22-8988-4dae-91f6-7302b81ebaf6",
     "showTitle": false,
     "tableResultSettingsMap": {},
     "title": ""
    }
   },
   "outputs": [],
   "source": [
    "# ============================================================\n",
    "# セル4: プロンプトバージョン定義\n",
    "# ============================================================\n",
    "\n",
    "# 評価対象の複数プロンプトバージョン\n",
    "prompt_versions = {\n",
    "    \"v1_basic\": \"\"\"\n",
    "以下の顧客情報を200文字以内で要約してください。\n",
    "\n",
    "顧客ID: {customer_id}\n",
    "名前: {name}\n",
    "年齢: {age}\n",
    "職業: {occupation}\n",
    "購入履歴: {purchase_history}\n",
    "問い合わせ履歴: {inquiries}\n",
    "備考: {notes}\n",
    "\"\"\",\n",
    "    \n",
    "    \"v2_structured\": \"\"\"\n",
    "以下の顧客情報を、重要なポイントを押さえて簡潔に要約してください。\n",
    "\n",
    "【基本情報】\n",
    "- 顧客ID: {customer_id}\n",
    "- 名前: {name}（{age}歳、{occupation}）\n",
    "\n",
    "【取引状況】\n",
    "- 購入: {purchase_history}\n",
    "- 問い合わせ: {inquiries}\n",
    "\n",
    "【特記事項】\n",
    "{notes}\n",
    "\n",
    "【要約要件】\n",
    "- 200文字以内\n",
    "- 営業担当者が次のアクションを判断できる内容\n",
    "- 数値・具体的事実を優先\n",
    "\"\"\",\n",
    "    \n",
    "    \"v3_actionable\": \"\"\"\n",
    "営業担当者向けに、以下の顧客情報から次のアクション判断に必要な要点を抽出してください。\n",
    "\n",
    "顧客: {name}（ID: {customer_id}、{age}歳、{occupation}）\n",
    "購入履歴: {purchase_history}\n",
    "問い合わせ: {inquiries}\n",
    "備考: {notes}\n",
    "\n",
    "以下の観点で200文字以内で要約:\n",
    "1. 顧客の購買パターン\n",
    "2. 現在のニーズや課題\n",
    "3. 次に提案すべき内容\n",
    "\"\"\"\n",
    "}\n",
    "\n",
    "print(f\"✓ プロンプトバージョン: {len(prompt_versions)}個\")\n",
    "for version in prompt_versions.keys():\n",
    "    print(f\"  - {version}\")\n"
   ]
  },
  {
   "cell_type": "code",
   "execution_count": 0,
   "metadata": {
    "application/vnd.databricks.v1+cell": {
     "cellMetadata": {
      "byteLimit": 2048000,
      "rowLimit": 10000
     },
     "inputWidgets": {},
     "nuid": "fd8c5da2-2eea-4f55-b26d-627bccddda26",
     "showTitle": false,
     "tableResultSettingsMap": {},
     "title": ""
    }
   },
   "outputs": [],
   "source": [
    "# ============================================================\n",
    "# セル5: 推論実行関数\n",
    "# ============================================================\n",
    "\n",
    "def generate_summary(customer: Dict, prompt_template: str, model: str = \"gpt-4o-mini\") -> str:\n",
    "    \"\"\"\n",
    "    プロンプトテンプレートに顧客データを埋め込んで要約生成\n",
    "    \"\"\"\n",
    "    prompt = prompt_template.format(**customer)\n",
    "    \n",
    "    response = client.chat.completions.create(\n",
    "        model=model,\n",
    "        messages=[\n",
    "            {\"role\": \"system\", \"content\": \"あなたは優秀なカスタマーサポート担当者です。\"},\n",
    "            {\"role\": \"user\", \"content\": prompt}\n",
    "        ],\n",
    "        temperature=0.3,\n",
    "        max_tokens=300\n",
    "    )\n",
    "    \n",
    "    return response.choices[0].message.content\n",
    "\n",
    "print(\"✓ 推論関数定義完了\")\n"
   ]
  },
  {
   "cell_type": "code",
   "execution_count": 0,
   "metadata": {
    "application/vnd.databricks.v1+cell": {
     "cellMetadata": {
      "byteLimit": 2048000,
      "rowLimit": 10000
     },
     "inputWidgets": {},
     "nuid": "8b7e2443-bc5d-46d5-a02e-c27fdfb968f7",
     "showTitle": false,
     "tableResultSettingsMap": {},
     "title": ""
    }
   },
   "outputs": [],
   "source": [
    "# ============================================================\n",
    "# セル6: 評価関数（LLM-as-a-Judge）\n",
    "# ============================================================\n",
    "\n",
    "def evaluate_summary(customer: Dict, summary: str) -> Dict:\n",
    "    \"\"\"\n",
    "    生成された要約を評価\n",
    "    \n",
    "    Returns:\n",
    "        {\n",
    "            \"score\": float (0.0-1.0),\n",
    "            \"reasoning\": str,\n",
    "            \"metrics\": {\n",
    "                \"conciseness\": float,\n",
    "                \"clarity\": float,\n",
    "                \"actionability\": float\n",
    "            }\n",
    "        }\n",
    "    \"\"\"\n",
    "    \n",
    "    evaluation_prompt = f\"\"\"\n",
    "以下の顧客要約を評価してください。\n",
    "\n",
    "【元データ】\n",
    "顧客: {customer['name']} ({customer['age']}歳、{customer['occupation']})\n",
    "購入履歴: {customer['purchase_history']}\n",
    "問い合わせ: {customer['inquiries']}\n",
    "備考: {customer['notes']}\n",
    "\n",
    "【生成された要約】\n",
    "{summary}\n",
    "\n",
    "【評価基準】\n",
    "1. 簡潔性 (0-10): 200文字以内で無駄がないか\n",
    "2. 明瞭性 (0-10): 重要情報が明確に伝わるか\n",
    "3. 実用性 (0-10): 次のアクション判断に役立つか\n",
    "\n",
    "以下のJSON形式で評価を出力してください:\n",
    "{{\n",
    "  \"conciseness\": <0-10の整数>,\n",
    "  \"clarity\": <0-10の整数>,\n",
    "  \"actionability\": <0-10の整数>,\n",
    "  \"reasoning\": \"<評価理由>\"\n",
    "}}\n",
    "\"\"\"\n",
    "    \n",
    "    response = client.chat.completions.create(\n",
    "        model=\"gpt-4o-mini\",\n",
    "        messages=[\n",
    "            {\"role\": \"system\", \"content\": \"あなたは厳正な品質評価者です。\"},\n",
    "            {\"role\": \"user\", \"content\": evaluation_prompt}\n",
    "        ],\n",
    "        temperature=0.1,\n",
    "        response_format={\"type\": \"json_object\"}\n",
    "    )\n",
    "    \n",
    "    result = json.loads(response.choices[0].message.content)\n",
    "    \n",
    "    # 総合スコア計算（平均を0-1に正規化）\n",
    "    total_score = (\n",
    "        result[\"conciseness\"] + \n",
    "        result[\"clarity\"] + \n",
    "        result[\"actionability\"]\n",
    "    ) / 30.0\n",
    "    \n",
    "    return {\n",
    "        \"score\": total_score,\n",
    "        \"reasoning\": result.get(\"reasoning\", \"\"),\n",
    "        \"metrics\": {\n",
    "            \"conciseness\": result[\"conciseness\"] / 10.0,\n",
    "            \"clarity\": result[\"clarity\"] / 10.0,\n",
    "            \"actionability\": result[\"actionability\"] / 10.0\n",
    "        }\n",
    "    }\n",
    "\n",
    "print(\"✓ 評価関数定義完了\")\n"
   ]
  },
  {
   "cell_type": "code",
   "execution_count": 0,
   "metadata": {
    "application/vnd.databricks.v1+cell": {
     "cellMetadata": {
      "byteLimit": 2048000,
      "rowLimit": 10000
     },
     "inputWidgets": {},
     "nuid": "c1ef4b08-6ffc-40e7-a028-7ccfb283cdd7",
     "showTitle": false,
     "tableResultSettingsMap": {},
     "title": ""
    }
   },
   "outputs": [],
   "source": [
    "# ============================================================\n",
    "# セル7: 評価実験実行\n",
    "# ============================================================\n",
    "\n",
    "# MLflow実験設定\n",
    "mlflow.set_experiment(experiment_id=2762244084694129)\n",
    "\n",
    "results = []\n",
    "\n",
    "print(\"=\" * 60)\n",
    "print(\"プロンプト評価実験開始\")\n",
    "print(\"=\" * 60)\n",
    "\n",
    "for version_name, prompt_template in prompt_versions.items():\n",
    "    print(f\"\\n📋 評価中: {version_name}\")\n",
    "    \n",
    "    with mlflow.start_run(run_name=version_name):\n",
    "        # プロンプトをログ\n",
    "        mlflow.log_param(\"プロンプトバージョン\", version_name)\n",
    "        mlflow.log_text(prompt_template, \"プロンプトテンプレート.txt\")\n",
    "        \n",
    "        version_scores = []\n",
    "        \n",
    "        for customer in test_customers:\n",
    "            print(f\"  → {customer['name']}\")\n",
    "            \n",
    "            # 要約生成\n",
    "            summary = generate_summary(customer, prompt_template)\n",
    "            \n",
    "            # 評価実行\n",
    "            evaluation = evaluate_summary(customer, summary)\n",
    "            \n",
    "            # 結果記録\n",
    "            result = {\n",
    "                \"プロンプトバージョン\": version_name,\n",
    "                \"顧客ID\": customer[\"customer_id\"],\n",
    "                \"顧客名\": customer[\"name\"],\n",
    "                \"要約\": summary,\n",
    "                \"総合スコア\": evaluation[\"score\"],\n",
    "                \"簡潔性\": evaluation[\"metrics\"][\"conciseness\"],\n",
    "                \"明瞭性\": evaluation[\"metrics\"][\"clarity\"],\n",
    "                \"実用性\": evaluation[\"metrics\"][\"actionability\"],\n",
    "                \"評価理由\": evaluation[\"reasoning\"]\n",
    "            }\n",
    "            \n",
    "            results.append(result)\n",
    "            version_scores.append(evaluation[\"score\"])\n",
    "            \n",
    "            print(f\"     スコア: {evaluation['score']:.2%}\")\n",
    "        \n",
    "        # バージョンごとの平均スコアをログ\n",
    "        avg_score = sum(version_scores) / len(version_scores)\n",
    "        mlflow.log_metric(\"平均スコア\", avg_score)\n",
    "        mlflow.log_metric(\"平均_簡潔性\", sum(r[\"簡潔性\"] for r in results[-len(test_customers):]) / len(test_customers))\n",
    "        mlflow.log_metric(\"平均_明瞭性\", sum(r[\"明瞭性\"] for r in results[-len(test_customers):]) / len(test_customers))\n",
    "        mlflow.log_metric(\"平均_実用性\", sum(r[\"実用性\"] for r in results[-len(test_customers):]) / len(test_customers))\n",
    "        \n",
    "        print(f\"  ✓ 平均スコア: {avg_score:.2%}\")\n",
    "\n",
    "print(\"\\n\" + \"=\" * 60)\n",
    "print(\"✓ 評価実験完了\")\n",
    "print(\"=\" * 60)"
   ]
  },
  {
   "cell_type": "code",
   "execution_count": 0,
   "metadata": {
    "application/vnd.databricks.v1+cell": {
     "cellMetadata": {
      "byteLimit": 2048000,
      "rowLimit": 10000
     },
     "inputWidgets": {},
     "nuid": "9f9ea235-f2c5-4449-859d-be04d4a5fb91",
     "showTitle": false,
     "tableResultSettingsMap": {},
     "title": ""
    }
   },
   "outputs": [],
   "source": []
  }
 ],
 "metadata": {
  "application/vnd.databricks.v1+notebook": {
   "computePreferences": null,
   "dashboards": [],
   "environmentMetadata": {
    "base_environment": "",
    "environment_version": "4"
   },
   "inputWidgetPreferences": null,
   "language": "python",
   "notebookMetadata": {
    "pythonIndentUnit": 4
   },
   "notebookName": "llm",
   "widgets": {}
  },
  "language_info": {
   "name": "python"
  }
 },
 "nbformat": 4,
 "nbformat_minor": 0
}
